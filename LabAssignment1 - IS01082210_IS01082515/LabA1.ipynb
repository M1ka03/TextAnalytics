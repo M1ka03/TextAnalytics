{
 "cells": [
  {
   "cell_type": "code",
   "execution_count": 1,
   "id": "6dd20707-97a3-40d2-94c2-2416bfde1a82",
   "metadata": {},
   "outputs": [
    {
     "name": "stdout",
     "output_type": "stream",
     "text": [
      "Requirement already satisfied: praw in c:\\users\\mnkam\\appdata\\local\\programs\\python\\python313\\lib\\site-packages (7.8.1)\n",
      "Requirement already satisfied: pandas in c:\\users\\mnkam\\appdata\\local\\programs\\python\\python313\\lib\\site-packages (2.2.3)\n",
      "Requirement already satisfied: prawcore<3,>=2.4 in c:\\users\\mnkam\\appdata\\local\\programs\\python\\python313\\lib\\site-packages (from praw) (2.4.0)\n",
      "Requirement already satisfied: update_checker>=0.18 in c:\\users\\mnkam\\appdata\\local\\programs\\python\\python313\\lib\\site-packages (from praw) (0.18.0)\n",
      "Requirement already satisfied: websocket-client>=0.54.0 in c:\\users\\mnkam\\appdata\\local\\programs\\python\\python313\\lib\\site-packages (from praw) (1.8.0)\n",
      "Requirement already satisfied: numpy>=1.26.0 in c:\\users\\mnkam\\appdata\\local\\programs\\python\\python313\\lib\\site-packages (from pandas) (2.2.3)\n",
      "Requirement already satisfied: python-dateutil>=2.8.2 in c:\\users\\mnkam\\appdata\\local\\programs\\python\\python313\\lib\\site-packages (from pandas) (2.9.0.post0)\n",
      "Requirement already satisfied: pytz>=2020.1 in c:\\users\\mnkam\\appdata\\local\\programs\\python\\python313\\lib\\site-packages (from pandas) (2025.1)\n",
      "Requirement already satisfied: tzdata>=2022.7 in c:\\users\\mnkam\\appdata\\local\\programs\\python\\python313\\lib\\site-packages (from pandas) (2025.1)\n",
      "Requirement already satisfied: requests<3.0,>=2.6.0 in c:\\users\\mnkam\\appdata\\local\\programs\\python\\python313\\lib\\site-packages (from prawcore<3,>=2.4->praw) (2.32.3)\n",
      "Requirement already satisfied: six>=1.5 in c:\\users\\mnkam\\appdata\\local\\programs\\python\\python313\\lib\\site-packages (from python-dateutil>=2.8.2->pandas) (1.17.0)\n",
      "Requirement already satisfied: charset-normalizer<4,>=2 in c:\\users\\mnkam\\appdata\\local\\programs\\python\\python313\\lib\\site-packages (from requests<3.0,>=2.6.0->prawcore<3,>=2.4->praw) (3.4.1)\n",
      "Requirement already satisfied: idna<4,>=2.5 in c:\\users\\mnkam\\appdata\\local\\programs\\python\\python313\\lib\\site-packages (from requests<3.0,>=2.6.0->prawcore<3,>=2.4->praw) (3.10)\n",
      "Requirement already satisfied: urllib3<3,>=1.21.1 in c:\\users\\mnkam\\appdata\\local\\programs\\python\\python313\\lib\\site-packages (from requests<3.0,>=2.6.0->prawcore<3,>=2.4->praw) (2.3.0)\n",
      "Requirement already satisfied: certifi>=2017.4.17 in c:\\users\\mnkam\\appdata\\local\\programs\\python\\python313\\lib\\site-packages (from requests<3.0,>=2.6.0->prawcore<3,>=2.4->praw) (2025.1.31)\n"
     ]
    }
   ],
   "source": [
    "!pip install praw pandas\n",
    "\n",
    "import praw\n",
    "import pandas as pd\n",
    "from datetime import datetime"
   ]
  },
  {
   "cell_type": "code",
   "execution_count": 2,
   "id": "7ef21087-0193-42a7-b753-4f336231eb4f",
   "metadata": {},
   "outputs": [],
   "source": [
    "# Reddit API Credentials (replace with your own!)\n",
    "reddit = praw.Reddit(\n",
    "    client_id='OPwIuUwKiN1cGokkGR8xoQ',\n",
    "    client_secret='Hgv53-uQXIOHX-hReMrLwksj8LK0eA',\n",
    "    user_agent='YOUR_USER_AGENT'\n",
    ")"
   ]
  },
  {
   "cell_type": "code",
   "execution_count": 3,
   "id": "4f809606-7c9f-4eee-bd20-ef49feb40057",
   "metadata": {},
   "outputs": [
    {
     "name": "stdout",
     "output_type": "stream",
     "text": [
      "Collected 485 comments!\n"
     ]
    }
   ],
   "source": [
    "# Choose subreddit\n",
    "subreddit = reddit.subreddit('GenshinImpact')\n",
    "\n",
    "# Empty list to store data\n",
    "comments_data = []\n",
    "\n",
    "# Fetch 5 hot posts (you can increase if you want!)\n",
    "for submission in subreddit.hot(limit=5):\n",
    "    submission.comments.replace_more(limit=0)  # Flatten replies\n",
    "    \n",
    "    for comment in submission.comments.list():\n",
    "        comments_data.append({\n",
    "            'Commenter': comment.author.name if comment.author else 'Deleted',\n",
    "            'Comment': comment.body,\n",
    "            'Timestamp': comment.created_utc\n",
    "        })\n",
    "\n",
    "print(f\"Collected {len(comments_data)} comments!\")"
   ]
  },
  {
   "cell_type": "code",
   "execution_count": 4,
   "id": "b60c7b2e-9caa-49be-96aa-668bd324d744",
   "metadata": {},
   "outputs": [
    {
     "name": "stderr",
     "output_type": "stream",
     "text": [
      "C:\\Users\\mnkam\\AppData\\Local\\Temp\\ipykernel_19120\\3402661790.py:5: DeprecationWarning: datetime.datetime.utcfromtimestamp() is deprecated and scheduled for removal in a future version. Use timezone-aware objects to represent datetimes in UTC: datetime.datetime.fromtimestamp(timestamp, datetime.UTC).\n",
      "  df['Readable_Date'] = df['Timestamp'].apply(lambda x: datetime.utcfromtimestamp(int(x)).strftime('%Y-%m-%d %H:%M:%S'))\n"
     ]
    },
    {
     "data": {
      "text/html": [
       "<div>\n",
       "<style scoped>\n",
       "    .dataframe tbody tr th:only-of-type {\n",
       "        vertical-align: middle;\n",
       "    }\n",
       "\n",
       "    .dataframe tbody tr th {\n",
       "        vertical-align: top;\n",
       "    }\n",
       "\n",
       "    .dataframe thead th {\n",
       "        text-align: right;\n",
       "    }\n",
       "</style>\n",
       "<table border=\"1\" class=\"dataframe\">\n",
       "  <thead>\n",
       "    <tr style=\"text-align: right;\">\n",
       "      <th></th>\n",
       "      <th>Commenter</th>\n",
       "      <th>Comment</th>\n",
       "      <th>Readable_Date</th>\n",
       "    </tr>\n",
       "  </thead>\n",
       "  <tbody>\n",
       "    <tr>\n",
       "      <th>0</th>\n",
       "      <td>crysti1575</td>\n",
       "      <td>I am trying to beat the Marana's Avatar.  I ha...</td>\n",
       "      <td>2025-03-12 23:17:27</td>\n",
       "    </tr>\n",
       "    <tr>\n",
       "      <th>1</th>\n",
       "      <td>ReauxLimberry</td>\n",
       "      <td>Vertical Investment?\\n\\nI'm new-ish to the gam...</td>\n",
       "      <td>2025-03-13 17:56:58</td>\n",
       "    </tr>\n",
       "    <tr>\n",
       "      <th>2</th>\n",
       "      <td>RedEyedPig</td>\n",
       "      <td>This is my current Furina build. Should I just...</td>\n",
       "      <td>2025-03-15 12:54:44</td>\n",
       "    </tr>\n",
       "    <tr>\n",
       "      <th>3</th>\n",
       "      <td>AutoModerator</td>\n",
       "      <td>Hi u/AutoModerator, please consider checking t...</td>\n",
       "      <td>2025-03-11 21:00:35</td>\n",
       "    </tr>\n",
       "    <tr>\n",
       "      <th>4</th>\n",
       "      <td>Normal_Guy_Hh</td>\n",
       "      <td>https://preview.redd.it/tjie8ze909oe1.jpeg?wid...</td>\n",
       "      <td>2025-03-12 11:58:18</td>\n",
       "    </tr>\n",
       "  </tbody>\n",
       "</table>\n",
       "</div>"
      ],
      "text/plain": [
       "       Commenter                                            Comment  \\\n",
       "0     crysti1575  I am trying to beat the Marana's Avatar.  I ha...   \n",
       "1  ReauxLimberry  Vertical Investment?\\n\\nI'm new-ish to the gam...   \n",
       "2     RedEyedPig  This is my current Furina build. Should I just...   \n",
       "3  AutoModerator  Hi u/AutoModerator, please consider checking t...   \n",
       "4  Normal_Guy_Hh  https://preview.redd.it/tjie8ze909oe1.jpeg?wid...   \n",
       "\n",
       "         Readable_Date  \n",
       "0  2025-03-12 23:17:27  \n",
       "1  2025-03-13 17:56:58  \n",
       "2  2025-03-15 12:54:44  \n",
       "3  2025-03-11 21:00:35  \n",
       "4  2025-03-12 11:58:18  "
      ]
     },
     "execution_count": 4,
     "metadata": {},
     "output_type": "execute_result"
    }
   ],
   "source": [
    "# Create DataFrame\n",
    "df = pd.DataFrame(comments_data)\n",
    "\n",
    "# Convert timestamp to readable date\n",
    "df['Readable_Date'] = df['Timestamp'].apply(lambda x: datetime.utcfromtimestamp(int(x)).strftime('%Y-%m-%d %H:%M:%S'))\n",
    "\n",
    "# Drop old timestamp column\n",
    "df.drop(columns=['Timestamp'], inplace=True)\n",
    "\n",
    "# Preview\n",
    "df.head()"
   ]
  },
  {
   "cell_type": "code",
   "execution_count": 5,
   "id": "1b6bee38-2f53-4f19-aea2-e4b01234d1c2",
   "metadata": {},
   "outputs": [
    {
     "name": "stdout",
     "output_type": "stream",
     "text": [
      "Saved to GenshinImpact_Discussion.csv\n"
     ]
    }
   ],
   "source": [
    "df.to_csv('GenshinImpact_Discussion.csv', index=False, encoding='utf-8')\n",
    "print(\"Saved to GenshinImpact_Discussion.csv\")"
   ]
  },
  {
   "cell_type": "code",
   "execution_count": null,
   "id": "9eb3b1b5-afc8-4265-a296-8fd3fa36e08e",
   "metadata": {},
   "outputs": [],
   "source": []
  }
 ],
 "metadata": {
  "kernelspec": {
   "display_name": "Python 3 (ipykernel)",
   "language": "python",
   "name": "python3"
  },
  "language_info": {
   "codemirror_mode": {
    "name": "ipython",
    "version": 3
   },
   "file_extension": ".py",
   "mimetype": "text/x-python",
   "name": "python",
   "nbconvert_exporter": "python",
   "pygments_lexer": "ipython3",
   "version": "3.13.2"
  }
 },
 "nbformat": 4,
 "nbformat_minor": 5
}
