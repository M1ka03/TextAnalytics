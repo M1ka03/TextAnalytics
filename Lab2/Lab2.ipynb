{
 "cells": [
  {
   "cell_type": "code",
   "execution_count": 1,
   "id": "d1d94a7b-a41b-4122-a499-9152dbc61f45",
   "metadata": {},
   "outputs": [],
   "source": [
    "import re"
   ]
  },
  {
   "cell_type": "code",
   "execution_count": 3,
   "id": "9cdb6537-9479-470d-b91f-06e418545b2f",
   "metadata": {},
   "outputs": [
    {
     "name": "stdout",
     "output_type": "stream",
     "text": [
      "Digits found: ['2', '4', '5', '6', '7', '8', '9', '3', '4', '1', '2', '3', '0']\n"
     ]
    }
   ],
   "source": [
    "text = \"Order number: 24567, Tracking ID: 8934A12, Quantity: 30\"\n",
    "# Write your regular expression here\n",
    "pattern = r\"\\d\"\n",
    "matches = re.findall(pattern, text)\n",
    "print(\"Digits found:\", matches)"
   ]
  },
  {
   "cell_type": "code",
   "execution_count": 5,
   "id": "9ab5c411-0e7d-4834-b7c3-e928c8f70b94",
   "metadata": {},
   "outputs": [
    {
     "name": "stdout",
     "output_type": "stream",
     "text": [
      "Non-alphanumeric characters: ['!', ' ', \"'\", ' ', ' ', ' ', '?', ' ', ' ', ' ', '@', ' ', '.']\n"
     ]
    }
   ],
   "source": [
    "text = \"Welcome! How's your day going? Call me @ 3pm.\"\n",
    "pattern = r\"\\W\"\n",
    "matches = re.findall(pattern, text)\n",
    "print(\"Non-alphanumeric characters:\", matches)"
   ]
  },
  {
   "cell_type": "code",
   "execution_count": 7,
   "id": "347eef80-eb2f-4a26-9e1b-ffc20a6473e2",
   "metadata": {},
   "outputs": [
    {
     "name": "stdout",
     "output_type": "stream",
     "text": [
      "Split text: ['Data Science, AI, and Machine Lea', '. These fields a', ' g', ' fast.']\n"
     ]
    },
    {
     "name": "stderr",
     "output_type": "stream",
     "text": [
      "<>:2: SyntaxWarning: invalid escape sequence '\\w'\n",
      "<>:2: SyntaxWarning: invalid escape sequence '\\w'\n",
      "C:\\Users\\mnkam\\AppData\\Local\\Temp\\ipykernel_44480\\4005327133.py:2: SyntaxWarning: invalid escape sequence '\\w'\n",
      "  pattern = 'r\\w+'\n"
     ]
    }
   ],
   "source": [
    "text = \"Data Science, AI, and Machine Learning. These fields are growing fast.\"\n",
    "pattern = 'r\\w+'\n",
    "split_text = re.split(pattern, text)\n",
    "print(\"Split text:\", split_text)"
   ]
  },
  {
   "cell_type": "code",
   "execution_count": 9,
   "id": "1cb10c93-cf79-43e8-bd84-ed663c809dd8",
   "metadata": {},
   "outputs": [
    {
     "name": "stdout",
     "output_type": "stream",
     "text": [
      "Split text: ['Data Science', ' AI', ' and Machine Learning', ' These fields are growing fast', '']\n"
     ]
    }
   ],
   "source": [
    "text = \"Data Science, AI, and Machine Learning. These fields are growing fast.\"\n",
    "pattern = r\"[,.]\"\n",
    "split_text = re.split(pattern, text)\n",
    "print(\"Split text:\", split_text)"
   ]
  },
  {
   "cell_type": "code",
   "execution_count": 11,
   "id": "537dc3f8-4948-470a-9fe6-425d464f7f2e",
   "metadata": {},
   "outputs": [
    {
     "name": "stdout",
     "output_type": "stream",
     "text": [
      "Anonymized text: Contact us at [HIDDEN] or [HIDDEN]\n"
     ]
    }
   ],
   "source": [
    "text = \"Contact us at support@example.com or info@company.org\"\n",
    "pattern1 = r\"support@example.com\"\n",
    "pattern2 = r\"info@company.org\"\n",
    "new_text = re.sub(pattern1, \"[HIDDEN]\", text)\n",
    "text2 = re.sub(pattern2, \"[HIDDEN]\", new_text)\n",
    "print(\"Anonymized text:\", text2)"
   ]
  },
  {
   "cell_type": "code",
   "execution_count": 13,
   "id": "53c1f9e1-04d5-474f-9c5c-30d9b67b20bf",
   "metadata": {},
   "outputs": [
    {
     "name": "stdout",
     "output_type": "stream",
     "text": [
      "Domain types: ['com', 'edu', 'org']\n"
     ]
    }
   ],
   "source": [
    "text = \"Emails: user@gmail.com, admin@university.edu, info@company.org\"\n",
    "pattern = r\"@\\w+.(\\w+)\"\n",
    "matches = re.findall(pattern, text)\n",
    "print(\"Domain types:\", matches)"
   ]
  },
  {
   "cell_type": "code",
   "execution_count": null,
   "id": "c28baaf7-1d34-4479-9dae-43cb4fe6563f",
   "metadata": {},
   "outputs": [],
   "source": []
  }
 ],
 "metadata": {
  "kernelspec": {
   "display_name": "Python [conda env:base]",
   "language": "python",
   "name": "conda-base-py"
  },
  "language_info": {
   "codemirror_mode": {
    "name": "ipython",
    "version": 3
   },
   "file_extension": ".py",
   "mimetype": "text/x-python",
   "name": "python",
   "nbconvert_exporter": "python",
   "pygments_lexer": "ipython3",
   "version": "3.12.7"
  }
 },
 "nbformat": 4,
 "nbformat_minor": 5
}
